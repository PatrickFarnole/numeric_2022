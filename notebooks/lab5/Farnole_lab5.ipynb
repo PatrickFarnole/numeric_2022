{
 "cells": [
  {
   "cell_type": "markdown",
   "metadata": {},
   "source": [
    "### Problem Initial"
   ]
  },
  {
   "cell_type": "code",
   "execution_count": 2,
   "metadata": {},
   "outputs": [],
   "source": [
    "import context\n",
    "from numlabs.lab5.lab5_funs import Integrator\n",
    "from collections import namedtuple\n",
    "import numpy as np\n",
    "import pandas as pd\n",
    "import matplotlib.pyplot as plt"
   ]
  },
  {
   "cell_type": "code",
   "execution_count": 3,
   "metadata": {},
   "outputs": [],
   "source": [
    "# functions for problem initial\n",
    "from numlabs.lab5.lab5_funs import Integrator\n",
    "\n",
    "\n",
    "class Integ54(Integrator):\n",
    "    def set_yinit(self):\n",
    "        #\n",
    "        # read in 'albedo_white chi S0 L albedo_black R albedo_ground'\n",
    "        #\n",
    "        uservars = namedtuple('uservars', self.config['uservars'].keys())\n",
    "        self.uservars = uservars(**self.config['uservars'])\n",
    "        #\n",
    "        # read in 'whiteconc blackconc'\n",
    "        #\n",
    "        initvars = namedtuple('initvars', self.config['initvars'].keys())\n",
    "        self.initvars = initvars(**self.config['initvars'])\n",
    "        self.yinit = np.array(\n",
    "            [self.initvars.whiteconc, self.initvars.blackconc])\n",
    "        self.nvars = len(self.yinit)\n",
    "        return None\n",
    "\n",
    "    def __init__(self, coeff_file_name):\n",
    "        super().__init__(coeff_file_name)\n",
    "        self.set_yinit()\n",
    "\n",
    "    def find_temp(self, yvals):\n",
    "        \"\"\"\n",
    "            Calculate the temperatures over the white and black daisies\n",
    "            and the planetary equilibrium temperature given the daisy fractions\n",
    "            \n",
    "            input:  yvals -- array of dimension [2] with the white [0] and black [1]\n",
    "                    daisy fractiion\n",
    "            output:  white temperature (K), black temperature (K), equilibrium temperature (K)\n",
    "        \"\"\"\n",
    "        sigma = 5.67e-8  # Stefan Boltzman constant W/m^2/K^4\n",
    "        user = self.uservars\n",
    "        bare = 1.0 - yvals[0] - yvals[1]\n",
    "        albedo_p = bare * user.albedo_ground + \\\n",
    "            yvals[0] * user.albedo_white + yvals[1] * user.albedo_black\n",
    "        Te_4 = user.S0 / 4.0 * user.L * (1.0 - albedo_p) / sigma\n",
    "        temp_e = Te_4**0.25\n",
    "        eta = user.R * user.L * user.S0 / (4.0 * sigma)\n",
    "        temp_b = (eta * (albedo_p - user.albedo_black) + Te_4)**0.25\n",
    "        temp_w = (eta * (albedo_p - user.albedo_white) + Te_4)**0.25\n",
    "        return (temp_w, temp_b, temp_e)\n",
    "\n",
    "    def derivs5(self, y, t):\n",
    "        \"\"\"y[0]=fraction white daisies\n",
    "           y[1]=fraction black daisies\n",
    "           no feedback between daisies and\n",
    "           albedo_p (set to ground albedo)\n",
    "        \"\"\"\n",
    "        temp_w, temp_b, temp_e = self.find_temp(y)\n",
    "\n",
    "        if (temp_b >= 277.5 and temp_b <= 312.5):\n",
    "            beta_b = 1.0 - 0.003265 * (295.0 - temp_b)**2.0\n",
    "        else:\n",
    "            beta_b = 0.0\n",
    "\n",
    "        if (temp_w >= 277.5 and temp_w <= 312.5):\n",
    "            beta_w = 1.0 - 0.003265 * (295.0 - temp_w)**2.0\n",
    "        else:\n",
    "            beta_w = 0.0\n",
    "        user = self.uservars\n",
    "        bare = 1.0 - y[0] - y[1]\n",
    "        # create a 1 x 2 element vector to hold the derivitive\n",
    "        f = np.empty_like(y)\n",
    "        f[0] = y[0] * (beta_w * bare - user.chi)\n",
    "        f[1] = y[1] * (beta_b * bare - user.chi)\n",
    "        return f"
   ]
  },
  {
   "cell_type": "code",
   "execution_count": 4,
   "metadata": {},
   "outputs": [
    {
     "data": {
      "image/png": "[encoded data removed]",
      "text/plain": [
       "<Figure size 432x288 with 1 Axes>"
      ]
     },
     "metadata": {
      "needs_background": "light"
     },
     "output_type": "display_data"
    }
   ],
   "source": [
    "# Solve and plot for problem initial\n",
    "theSolver = Integ54('initial.yaml')\n",
    "timevals, yvals, errorlist = theSolver.timeloop5fixed()\n",
    "daisies = pd.DataFrame(yvals, columns=['white', 'black'])\n",
    "\n",
    "thefig, theAx = plt.subplots(1, 1)\n",
    "line1, = theAx.plot(timevals, daisies['white'])\n",
    "line2, = theAx.plot(timevals, daisies['black'])\n",
    "line1.set(linestyle='--', color='r', label='white')\n",
    "line2.set(linestyle='--', color='k', label='black')\n",
    "theAx.set_title('lab 5 interactive 4, initial conditions')\n",
    "theAx.set_xlabel('time')\n",
    "theAx.set_ylabel('fractional coverage')\n",
    "out = theAx.legend(loc='center right')"
   ]
  },
  {
   "cell_type": "code",
   "execution_count": 18,
   "metadata": {},
   "outputs": [
    {
     "name": "stdout",
     "output_type": "stream",
     "text": [
      "      white     black\n",
      "0  0.240000  0.040000\n",
      "1  0.240554  0.039404\n",
      "2  0.241142  0.038818\n",
      "3  0.241766  0.038240\n",
      "4  0.242424  0.037671\n"
     ]
    },
    {
     "data": {
      "image/png": "[encoded data removed]",
      "text/plain": [
       "<Figure size 432x288 with 1 Axes>"
      ]
     },
     "metadata": {
      "needs_background": "light"
     },
     "output_type": "display_data"
    }
   ],
   "source": [
    "theSolver = Integ54('initial_2.yaml')\n",
    "timevals, yvals, errorlist = theSolver.timeloop5fixed()\n",
    "daisies = pd.DataFrame(yvals, columns=['white', 'black'])\n",
    "\n",
    "print(daisies.head())\n",
    "len(daisies)\n",
    "\n",
    "thefig, theAx = plt.subplots(1, 1)\n",
    "line1, = theAx.plot(timevals, daisies['white'])\n",
    "line2, = theAx.plot(timevals, daisies['black'])\n",
    "line1.set(linestyle='--', color='r', label='white')\n",
    "line2.set(linestyle='--', color='k', label='black')\n",
    "theAx.set_title('lab 5 interactive 4, initial conditions')\n",
    "theAx.set_xlabel('time')\n",
    "theAx.set_ylabel('fractional coverage')\n",
    "out = theAx.legend(loc='center right')"
   ]
  },
  {
   "cell_type": "code",
   "execution_count": 19,
   "metadata": {},
   "outputs": [
    {
     "data": {
      "text/plain": [
       "(array([315.30802346, 315.26561198]),\n",
       " array([324.91992071, 324.88116376]),\n",
       " array([320.22481086, 320.17880143]))"
      ]
     },
     "execution_count": 19,
     "metadata": {},
     "output_type": "execute_result"
    }
   ],
   "source": [
    "theSolver.find_temp(yvals)"
   ]
  },
  {
   "cell_type": "code",
   "execution_count": null,
   "metadata": {},
   "outputs": [],
   "source": []
  },
  {
   "cell_type": "code",
   "execution_count": null,
   "metadata": {},
   "outputs": [],
   "source": []
  },
  {
   "cell_type": "code",
   "execution_count": null,
   "metadata": {},
   "outputs": [],
   "source": []
  },
  {
   "cell_type": "code",
   "execution_count": null,
   "metadata": {},
   "outputs": [],
   "source": []
  }
 ],
 "metadata": {
  "kernelspec": {
   "display_name": "Python 3",
   "language": "python",
   "name": "python3"
  },
  "language_info": {
   "codemirror_mode": {
    "name": "ipython",
    "version": 3
   },
   "file_extension": ".py",
   "mimetype": "text/x-python",
   "name": "python",
   "nbconvert_exporter": "python",
   "pygments_lexer": "ipython3",
   "version": "3.8.3"
  }
 },
 "nbformat": 4,
 "nbformat_minor": 5
}
