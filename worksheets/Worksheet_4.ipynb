{
 "cells": [
  {
   "cell_type": "markdown",
   "id": "75703414",
   "metadata": {},
   "source": [
    "Names: Patrick, Cuiyi, Reagan, Clinton"
   ]
  },
  {
   "cell_type": "code",
   "execution_count": 1,
   "id": "ac47936a",
   "metadata": {},
   "outputs": [],
   "source": [
    "# your import statements\n",
    "import numpy as np\n",
    "import matplotlib.pyplot as plt"
   ]
  },
  {
   "cell_type": "markdown",
   "id": "6d18f30a",
   "metadata": {},
   "source": [
    "## WorkSheet Instructions ##\n",
    "\n",
    "Before you begin you should have read and worked through Lab 3.\n",
    "\n",
    " I recommend that you do this worksheet in a python\n",
    "  notebook and share screen.  This method does mean one person will do the typing.  When complete, email the notebook (preferably as a pdf)\n",
    "  to sallen@eoas.ubc.ca\n",
    "  \n",
    "*This worksheet is based on Question 2 from the lab*"
   ]
  },
  {
   "cell_type": "markdown",
   "id": "092bf325",
   "metadata": {},
   "source": [
    "### Question A ###\n",
    "\n",
    "Compute the condition number for the matrix that arises from the Heat Equation using Dirchlet BC for various values of the number of segments, N, the rod is divided into. Note that N segments means N+1 grid points. Consider values of N between 5 and 50.  Remember that python starts counting from 0 (not 1).\n",
    "\n",
    "(Hint: This will be much easier if you write a small Python function that outputs the matrix for a given value of N.)"
   ]
  },
  {
   "cell_type": "markdown",
   "id": "0d7650b7",
   "metadata": {},
   "source": [
    "The Matrix is:\n",
    "\n",
    "\n",
    "$$A_1 = {\\left[\n",
    "          \\begin{array}{ccccccccc}\n",
    "            1&  0  & & \\dots  & & & & & 0 \\\\\n",
    "            1& {-2} & {1} & {0} & {\\dots} & && &  \\\\\n",
    "            0& {1} & {-2} &  {1} & {0} & {\\dots} & & &  \\\\\n",
    "            & {0} & {1}  & {-2} & {1} & {0} & {\\dots} & &  \\\\\n",
    "            & & & & & & & & \\\\\n",
    "            \\vdots & & & {\\ddots} & {\\ddots} & {\\ddots} & {\\ddots} & {\\ddots} & \\vdots \\\\\n",
    "            & & & & & & & & \\\\\n",
    "            & & & {\\dots} & {0} & {1} & {-2} & {1} & 0 \\\\\n",
    "            & &  & &{\\dots} & {0} & {1} & {-2} & 1 \\\\\n",
    "            0& & & & & \\dots & & 0 & 1 \\\\\n",
    "          \\end{array}\n",
    "        \\right]}\n",
    "$$    "
   ]
  },
  {
   "cell_type": "code",
   "execution_count": 2,
   "id": "3a9995f2",
   "metadata": {},
   "outputs": [
    {
     "name": "stdout",
     "output_type": "stream",
     "text": [
      "Example of matrix A1 for N=5:\n",
      " [[ 1.  0.  0.  0.  0.  0.]\n",
      " [ 1. -2.  1.  0.  0.  0.]\n",
      " [ 0.  1. -2.  1.  0.  0.]\n",
      " [ 0.  0.  1. -2.  1.  0.]\n",
      " [ 0.  0.  0.  1. -2.  1.]\n",
      " [ 0.  0.  0.  0.  0.  1.]]\n"
     ]
    }
   ],
   "source": [
    "# function that outputs matrix for a given value of N\n",
    "def differential_matrix_equation(N):\n",
    "    a=np.zeros((N+1,N+1))\n",
    "    a[0,0]=1\n",
    "    a[N,N]=1\n",
    "    for i in range(1,N):\n",
    "        for j in range(0,N+1):\n",
    "            if (i==j):\n",
    "                a[i,j]=-2\n",
    "            if (i-j==1):\n",
    "                a[i,j]=1\n",
    "            if (j-i==1):\n",
    "                a[i,j]=1\n",
    "    return a\n",
    "\n",
    "print(\"Example of matrix A1 for N=5:\\n\",differential_matrix_equation(5))\n",
    "\n",
    "# DEFINING values for N\n",
    "Ns = np.array([int(n) for n in np.linspace(5,50,20)])\n"
   ]
  },
  {
   "cell_type": "code",
   "execution_count": 3,
   "id": "013c01a5",
   "metadata": {},
   "outputs": [
    {
     "name": "stdout",
     "output_type": "stream",
     "text": [
      "For N = 5 , condition number for A1 is: 17.66\n",
      "For N = 7 , condition number for A1 is: 35.79\n",
      "For N = 9 , condition number for A1 is: 64.09\n",
      "For N = 12 , condition number for A1 is: 128.65\n",
      "For N = 14 , condition number for A1 is: 188.17\n",
      "For N = 16 , condition number for A1 is: 262.14\n",
      "For N = 19 , condition number for A1 is: 402.35\n",
      "For N = 21 , condition number for A1 is: 516.67\n",
      "For N = 23 , condition number for A1 is: 648.7\n",
      "For N = 26 , condition number for A1 is: 881.71\n",
      "For N = 28 , condition number for A1 is: 1061.52\n",
      "For N = 31 , condition number for A1 is: 1369.8\n",
      "For N = 33 , condition number for A1 is: 1602.07\n",
      "For N = 35 , condition number for A1 is: 1856.55\n",
      "For N = 38 , condition number for A1 is: 2281.35\n",
      "For N = 40 , condition number for A1 is: 2594.21\n",
      "For N = 42 , condition number for A1 is: 2931.52\n",
      "For N = 45 , condition number for A1 is: 3484.66\n",
      "For N = 47 , condition number for A1 is: 3885.72\n",
      "For N = 50 , condition number for A1 is: 4537.21\n"
     ]
    }
   ],
   "source": [
    "# cell to calculate the condition number for various N\n",
    "cd_nrs = []\n",
    "\n",
    "for N in Ns:\n",
    "    A = differential_matrix_equation(N)\n",
    "    cd_nr = np.linalg.cond(A,p='fro')\n",
    "    cd_nrs.append(cd_nr)\n",
    "    print(\"For N =\",N,\", condition number for A1 is:\",round(cd_nr,2))"
   ]
  },
  {
   "cell_type": "markdown",
   "id": "e8699890",
   "metadata": {},
   "source": [
    "### Question B ###\n",
    "\n",
    "Plot your results on a log-log plot (that is log condition number versus log N)\n",
    "\n",
    "Also plot N$^2$ on the same plot.\n",
    "\n",
    "How does the conition number of A$_1$ depend on N?"
   ]
  },
  {
   "cell_type": "code",
   "execution_count": 4,
   "id": "4b171eb2",
   "metadata": {},
   "outputs": [
    {
     "data": {
      "image/png": "[encoded data removed]",
      "text/plain": [
       "<Figure size 432x288 with 1 Axes>"
      ]
     },
     "metadata": {
      "needs_background": "light"
     },
     "output_type": "display_data"
    },
    {
     "name": "stdout",
     "output_type": "stream",
     "text": [
      "The condition number grows exponentially with N - therefore so is N**2. \n",
      "As N increases, the numerical resolution becomes less stable due to ill conditioning.\n"
     ]
    }
   ],
   "source": [
    "# code to do the plot\n",
    "y1 = np.array(cd_nrs)\n",
    "\n",
    "plt.loglog(Ns,y1,marker='o',label=\"A1(N)\")\n",
    "plt.loglog(Ns,y1**2,marker='o',label=\"A1(N**2)\")\n",
    "plt.legend()\n",
    "plt.xlabel('N')\n",
    "plt.ylabel('Condition Number')\n",
    "plt.title(\"Condition number as a function of N for A1\")\n",
    "plt.show()\n",
    "\n",
    "print(\"The condition number grows exponentially with N - therefore so is N**2. \\nAs N increases, the numerical resolution becomes less stable due to ill conditioning.\")"
   ]
  },
  {
   "cell_type": "markdown",
   "id": "553f7009",
   "metadata": {},
   "source": [
    "### Question C ###\n",
    "\n",
    "Another way to write the system of equations  Another way to write the system of equations is to substitute the\n",
    "boundary conditions into the equations, and thereby reduce size of the\n",
    "problem to one of N-1 equations in N-1 unknowns. The corresponding\n",
    "matrix is simply the N-1 by N-1 submatrix of A$_1$\n",
    "$$A_2 = {\\left[\n",
    "    \\begin{array}{ccccccc}\n",
    "    -2 &  1 &  0 & \\dots & && 0 \\\\\n",
    "    1 & -2 &  1 & 0 & \\dots & & \\\\\n",
    "    0 & 1  & -2 & 1 & 0 & \\dots &  \\\\\n",
    "    & & & & & & \\\\\n",
    "    \\vdots & & \\ddots & \\ddots& \\ddots & \\ddots & \\vdots\\\\\n",
    "    & & & & & & 0 \\\\\n",
    "    & & \\dots & 0 & 1 & -2 & 1 \\\\\n",
    "    0&  & &\\dots & 0 & 1 & -2 \\\\\n",
    "    \\end{array}\n",
    "    \\right]}\n",
    "    $$ \n",
    "    \n",
    "Does this change in the matrix make a significant difference in the\n",
    "    condition number?"
   ]
  },
  {
   "cell_type": "code",
   "execution_count": 5,
   "id": "627726e0",
   "metadata": {},
   "outputs": [
    {
     "name": "stdout",
     "output_type": "stream",
     "text": [
      "Example of matrix A2 for N=5:\n",
      " [[-2.  1.  0.  0.  0.  0.]\n",
      " [ 1. -2.  1.  0.  0.  0.]\n",
      " [ 0.  1. -2.  1.  0.  0.]\n",
      " [ 0.  0.  1. -2.  1.  0.]\n",
      " [ 0.  0.  0.  1. -2.  1.]\n",
      " [ 0.  0.  0.  0.  1. -2.]]\n"
     ]
    }
   ],
   "source": [
    "# new function that outputs the matrix A_2 for a given value of N\n",
    "def differential_matrix_equation_2(N):\n",
    "    a=np.zeros((N+1,N+1))\n",
    "    a[0,0]=-2\n",
    "    a[0,1]=1\n",
    "    a[N,N-1]=1\n",
    "    a[N,N]=-2\n",
    "    for i in range(1,N):\n",
    "        for j in range(0,N+1):\n",
    "            if (i==j):\n",
    "                a[i,j]=-2\n",
    "            if (i-j==1):\n",
    "                a[i,j]=1\n",
    "            if (j-i==1):\n",
    "                a[i,j]=1\n",
    "    return a\n",
    "\n",
    "print(\"Example of matrix A2 for N=5:\\n\",differential_matrix_equation_2(5))"
   ]
  },
  {
   "cell_type": "code",
   "execution_count": 6,
   "id": "645a1a8a",
   "metadata": {},
   "outputs": [
    {
     "name": "stdout",
     "output_type": "stream",
     "text": [
      "For N = 5 , condition number for A2 is: 30.85\n",
      "For N = 7 , condition number for A2 is: 58.78\n",
      "For N = 9 , condition number for A2 is: 98.12\n",
      "For N = 12 , condition number for A2 is: 181.25\n",
      "For N = 14 , condition number for A2 is: 254.37\n",
      "For N = 16 , condition number for A2 is: 342.84\n",
      "For N = 19 , condition number for A2 is: 506.39\n",
      "For N = 21 , condition number for A2 is: 637.28\n",
      "For N = 23 , condition number for A2 is: 786.63\n",
      "For N = 26 , condition number for A2 is: 1047.0\n",
      "For N = 28 , condition number for A2 is: 1245.91\n",
      "For N = 31 , condition number for A2 is: 1584.09\n",
      "For N = 33 , condition number for A2 is: 1837.1\n",
      "For N = 35 , condition number for A2 is: 2112.93\n",
      "For N = 38 , condition number for A2 is: 2570.88\n",
      "For N = 40 , condition number for A2 is: 2906.56\n",
      "For N = 42 , condition number for A2 is: 3267.26\n",
      "For N = 45 , condition number for A2 is: 3856.52\n",
      "For N = 47 , condition number for A2 is: 4282.33\n",
      "For N = 50 , condition number for A2 is: 4971.9\n"
     ]
    }
   ],
   "source": [
    "# cell to caculate the condition number for various N\n",
    "cd_nrs = []\n",
    "\n",
    "for N in Ns:\n",
    "    A = differential_matrix_equation_2(N)\n",
    "    cd_nr = np.linalg.cond(A,p='fro')\n",
    "    cd_nrs.append(cd_nr)\n",
    "    print(\"For N =\",N,\", condition number for A2 is:\",round(cd_nr,2))"
   ]
  },
  {
   "cell_type": "code",
   "execution_count": 7,
   "id": "e284f140",
   "metadata": {},
   "outputs": [
    {
     "data": {
      "image/png": "[encoded data removed]",
      "text/plain": [
       "<Figure size 432x288 with 1 Axes>"
      ]
     },
     "metadata": {
      "needs_background": "light"
     },
     "output_type": "display_data"
    }
   ],
   "source": [
    "# log log plot comparing\n",
    "y2 = np.array(cd_nrs)\n",
    "\n",
    "plt.loglog(Ns,y1,marker='o',label=\"A1(N)\")\n",
    "plt.loglog(Ns,y1**2,marker='o',label=\"A1(N**2)\")\n",
    "plt.loglog(Ns,y2,marker='o',label=\"A2(N)\")\n",
    "plt.loglog(Ns,y2**2,marker='o',label=\"A2(N**2)\")\n",
    "plt.legend()\n",
    "plt.xlabel('N')\n",
    "plt.ylabel('Condition Number')\n",
    "plt.title(\"Condition number as a function of N for A2\")\n",
    "plt.show()"
   ]
  },
  {
   "cell_type": "code",
   "execution_count": 8,
   "id": "16f3c19a",
   "metadata": {},
   "outputs": [
    {
     "name": "stdout",
     "output_type": "stream",
     "text": [
      "Changing the boundary conditions (A1 vs A2) only generates small numerical differences in condition number,\n",
      " but the asymptotic behaviour (large values of N) is the same.\n"
     ]
    }
   ],
   "source": [
    "print(\"Changing the boundary conditions (A1 vs A2) only generates small numerical differences in condition number,\\n but the asymptotic behaviour (large values of N) is the same.\")\n"
   ]
  }
 ],
 "metadata": {
  "kernelspec": {
   "display_name": "Python 3 (ipykernel)",
   "language": "python",
   "name": "python3"
  },
  "language_info": {
   "codemirror_mode": {
    "name": "ipython",
    "version": 3
   },
   "file_extension": ".py",
   "mimetype": "text/x-python",
   "name": "python",
   "nbconvert_exporter": "python",
   "pygments_lexer": "ipython3",
   "version": "3.10.1"
  }
 },
 "nbformat": 4,
 "nbformat_minor": 5
}
